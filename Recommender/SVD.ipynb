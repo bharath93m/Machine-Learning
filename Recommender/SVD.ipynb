{
  "cells": [
    {
      "cell_type": "code",
      "source": [
        "import pandas as pd\n",
        "df = pd.read_csv(\"C:/Users/Bharath/Downloads/ml-20m/ml-20m/ratings.csv\")\n",
        "movies = pd.read_csv(\"C:/Users/Bharath/Downloads/ml-20m/ml-20m/movies.csv\")\n",
        "data = df.merge(movies,on='movieId',how='inner')"
      ],
      "outputs": [],
      "execution_count": 1,
      "metadata": {
        "collapsed": false,
        "outputHidden": false,
        "inputHidden": false
      }
    },
    {
      "cell_type": "code",
      "source": [
        "data.head()"
      ],
      "outputs": [
        {
          "output_type": "execute_result",
          "execution_count": 4,
          "data": {
            "text/plain": [
              "   userId  movieId  rating   timestamp           title  \\\n",
              "0       1        2     3.5  1112486027  Jumanji (1995)   \n",
              "1       5        2     3.0   851527569  Jumanji (1995)   \n",
              "2      13        2     3.0   849082742  Jumanji (1995)   \n",
              "3      29        2     3.0   835562174  Jumanji (1995)   \n",
              "4      34        2     3.0   846509384  Jumanji (1995)   \n",
              "\n",
              "                       genres  \n",
              "0  Adventure|Children|Fantasy  \n",
              "1  Adventure|Children|Fantasy  \n",
              "2  Adventure|Children|Fantasy  \n",
              "3  Adventure|Children|Fantasy  \n",
              "4  Adventure|Children|Fantasy  "
            ],
            "text/html": [
              "<div>\n",
              "<style scoped>\n",
              "    .dataframe tbody tr th:only-of-type {\n",
              "        vertical-align: middle;\n",
              "    }\n",
              "\n",
              "    .dataframe tbody tr th {\n",
              "        vertical-align: top;\n",
              "    }\n",
              "\n",
              "    .dataframe thead th {\n",
              "        text-align: right;\n",
              "    }\n",
              "</style>\n",
              "<table border=\"1\" class=\"dataframe\">\n",
              "  <thead>\n",
              "    <tr style=\"text-align: right;\">\n",
              "      <th></th>\n",
              "      <th>userId</th>\n",
              "      <th>movieId</th>\n",
              "      <th>rating</th>\n",
              "      <th>timestamp</th>\n",
              "      <th>title</th>\n",
              "      <th>genres</th>\n",
              "    </tr>\n",
              "  </thead>\n",
              "  <tbody>\n",
              "    <tr>\n",
              "      <th>0</th>\n",
              "      <td>1</td>\n",
              "      <td>2</td>\n",
              "      <td>3.5</td>\n",
              "      <td>1112486027</td>\n",
              "      <td>Jumanji (1995)</td>\n",
              "      <td>Adventure|Children|Fantasy</td>\n",
              "    </tr>\n",
              "    <tr>\n",
              "      <th>1</th>\n",
              "      <td>5</td>\n",
              "      <td>2</td>\n",
              "      <td>3.0</td>\n",
              "      <td>851527569</td>\n",
              "      <td>Jumanji (1995)</td>\n",
              "      <td>Adventure|Children|Fantasy</td>\n",
              "    </tr>\n",
              "    <tr>\n",
              "      <th>2</th>\n",
              "      <td>13</td>\n",
              "      <td>2</td>\n",
              "      <td>3.0</td>\n",
              "      <td>849082742</td>\n",
              "      <td>Jumanji (1995)</td>\n",
              "      <td>Adventure|Children|Fantasy</td>\n",
              "    </tr>\n",
              "    <tr>\n",
              "      <th>3</th>\n",
              "      <td>29</td>\n",
              "      <td>2</td>\n",
              "      <td>3.0</td>\n",
              "      <td>835562174</td>\n",
              "      <td>Jumanji (1995)</td>\n",
              "      <td>Adventure|Children|Fantasy</td>\n",
              "    </tr>\n",
              "    <tr>\n",
              "      <th>4</th>\n",
              "      <td>34</td>\n",
              "      <td>2</td>\n",
              "      <td>3.0</td>\n",
              "      <td>846509384</td>\n",
              "      <td>Jumanji (1995)</td>\n",
              "      <td>Adventure|Children|Fantasy</td>\n",
              "    </tr>\n",
              "  </tbody>\n",
              "</table>\n",
              "</div>"
            ]
          },
          "metadata": {}
        }
      ],
      "execution_count": 4,
      "metadata": {
        "collapsed": false,
        "outputHidden": false,
        "inputHidden": false
      }
    },
    {
      "cell_type": "code",
      "source": [
        "df.head()"
      ],
      "outputs": [
        {
          "output_type": "execute_result",
          "execution_count": 5,
          "data": {
            "text/plain": [
              "   userId  movieId  rating   timestamp\n",
              "0       1        2     3.5  1112486027\n",
              "1       1       29     3.5  1112484676\n",
              "2       1       32     3.5  1112484819\n",
              "3       1       47     3.5  1112484727\n",
              "4       1       50     3.5  1112484580"
            ],
            "text/html": [
              "<div>\n",
              "<style scoped>\n",
              "    .dataframe tbody tr th:only-of-type {\n",
              "        vertical-align: middle;\n",
              "    }\n",
              "\n",
              "    .dataframe tbody tr th {\n",
              "        vertical-align: top;\n",
              "    }\n",
              "\n",
              "    .dataframe thead th {\n",
              "        text-align: right;\n",
              "    }\n",
              "</style>\n",
              "<table border=\"1\" class=\"dataframe\">\n",
              "  <thead>\n",
              "    <tr style=\"text-align: right;\">\n",
              "      <th></th>\n",
              "      <th>userId</th>\n",
              "      <th>movieId</th>\n",
              "      <th>rating</th>\n",
              "      <th>timestamp</th>\n",
              "    </tr>\n",
              "  </thead>\n",
              "  <tbody>\n",
              "    <tr>\n",
              "      <th>0</th>\n",
              "      <td>1</td>\n",
              "      <td>2</td>\n",
              "      <td>3.5</td>\n",
              "      <td>1112486027</td>\n",
              "    </tr>\n",
              "    <tr>\n",
              "      <th>1</th>\n",
              "      <td>1</td>\n",
              "      <td>29</td>\n",
              "      <td>3.5</td>\n",
              "      <td>1112484676</td>\n",
              "    </tr>\n",
              "    <tr>\n",
              "      <th>2</th>\n",
              "      <td>1</td>\n",
              "      <td>32</td>\n",
              "      <td>3.5</td>\n",
              "      <td>1112484819</td>\n",
              "    </tr>\n",
              "    <tr>\n",
              "      <th>3</th>\n",
              "      <td>1</td>\n",
              "      <td>47</td>\n",
              "      <td>3.5</td>\n",
              "      <td>1112484727</td>\n",
              "    </tr>\n",
              "    <tr>\n",
              "      <th>4</th>\n",
              "      <td>1</td>\n",
              "      <td>50</td>\n",
              "      <td>3.5</td>\n",
              "      <td>1112484580</td>\n",
              "    </tr>\n",
              "  </tbody>\n",
              "</table>\n",
              "</div>"
            ]
          },
          "metadata": {}
        }
      ],
      "execution_count": 5,
      "metadata": {
        "collapsed": false,
        "outputHidden": false,
        "inputHidden": false
      }
    },
    {
      "cell_type": "code",
      "source": [
        "df = df.loc[:,df.columns != 'timestamp']"
      ],
      "outputs": [],
      "execution_count": 6,
      "metadata": {
        "collapsed": false,
        "outputHidden": false,
        "inputHidden": false
      }
    },
    {
      "cell_type": "code",
      "source": [
        "from surprise import SVD\n",
        "from surprise import Dataset, Reader\n",
        "from surprise.model_selection import cross_validate, train_test_split"
      ],
      "outputs": [],
      "execution_count": 7,
      "metadata": {
        "collapsed": false,
        "outputHidden": false,
        "inputHidden": false
      }
    },
    {
      "cell_type": "code",
      "source": [
        "reader = Reader(rating_scale=(1,5))\n",
        "# create dataset instance with the pandas dataframe and the reader object\n",
        "X = Dataset.load_from_df(df,reader)"
      ],
      "outputs": [],
      "execution_count": 8,
      "metadata": {
        "collapsed": false,
        "outputHidden": false,
        "inputHidden": false
      }
    },
    {
      "cell_type": "code",
      "source": [
        "trainset, testset = train_test_split(X, test_size=.25)"
      ],
      "outputs": [],
      "execution_count": 13,
      "metadata": {
        "collapsed": false,
        "outputHidden": false,
        "inputHidden": false
      }
    },
    {
      "cell_type": "code",
      "source": [
        "# train a new SVD with 100 latent features\n",
        "%timeit\n",
        "model = SVD(n_factors=100)\n",
        "model.fit(trainset)"
      ],
      "outputs": [
        {
          "output_type": "execute_result",
          "execution_count": 14,
          "data": {
            "text/plain": [
              "<surprise.prediction_algorithms.matrix_factorization.SVD at 0x18ea792d780>"
            ]
          },
          "metadata": {}
        }
      ],
      "execution_count": 14,
      "metadata": {
        "collapsed": false,
        "outputHidden": false,
        "inputHidden": false
      }
    },
    {
      "cell_type": "code",
      "source": [
        "model.qi.shape"
      ],
      "outputs": [
        {
          "output_type": "execute_result",
          "execution_count": 15,
          "data": {
            "text/plain": [
              "(25561, 100)"
            ]
          },
          "metadata": {}
        }
      ],
      "execution_count": 15,
      "metadata": {
        "collapsed": false,
        "outputHidden": false,
        "inputHidden": false
      }
    },
    {
      "cell_type": "code",
      "source": [
        "model.pu.shape"
      ],
      "outputs": [
        {
          "output_type": "execute_result",
          "execution_count": 17,
          "data": {
            "text/plain": [
              "(138493, 100)"
            ]
          },
          "metadata": {}
        }
      ],
      "execution_count": 17,
      "metadata": {
        "collapsed": false,
        "outputHidden": false,
        "inputHidden": false
      }
    },
    {
      "cell_type": "code",
      "source": [
        "item_to_row_idx = model.trainset._raw2inner_id_items"
      ],
      "outputs": [],
      "execution_count": 57,
      "metadata": {
        "collapsed": false,
        "outputHidden": false,
        "inputHidden": false
      }
    },
    {
      "cell_type": "code",
      "source": [
        "result = pd.Series(item_to_row_idx).to_frame().reset_index() "
      ],
      "outputs": [],
      "execution_count": 58,
      "metadata": {
        "collapsed": false,
        "outputHidden": false,
        "inputHidden": false
      }
    },
    {
      "cell_type": "code",
      "source": [
        "result.columns = ['movieId','model_qi_index']"
      ],
      "outputs": [],
      "execution_count": 59,
      "metadata": {
        "collapsed": false,
        "outputHidden": false,
        "inputHidden": false
      }
    },
    {
      "cell_type": "code",
      "source": [
        "result = result.merge(movies,on='movieId',how='inner')"
      ],
      "outputs": [],
      "execution_count": 60,
      "metadata": {
        "collapsed": false,
        "outputHidden": false,
        "inputHidden": false
      }
    },
    {
      "cell_type": "code",
      "source": [
        "result = result[['title','model_qi_index']]"
      ],
      "outputs": [],
      "execution_count": 61,
      "metadata": {
        "collapsed": false,
        "outputHidden": false,
        "inputHidden": false
      }
    },
    {
      "cell_type": "code",
      "source": [
        "def get_qi_index(movie):\n",
        "    return result[result['title'] == movie]['model_qi_index'].values[0]"
      ],
      "outputs": [],
      "execution_count": 71,
      "metadata": {
        "collapsed": false,
        "outputHidden": false,
        "inputHidden": false
      }
    },
    {
      "cell_type": "code",
      "source": [
        "movies[movies['title'].str.contains('Dark Knight')]"
      ],
      "outputs": [
        {
          "output_type": "execute_result",
          "execution_count": 112,
          "data": {
            "text/plain": [
              "       movieId                                              title  \\\n",
              "12525    58559                            Dark Knight, The (2008)   \n",
              "18312    91529                      Dark Knight Rises, The (2012)   \n",
              "19876    98124     Batman: The Dark Knight Returns, Part 1 (2012)   \n",
              "20307    99813     Batman: The Dark Knight Returns, Part 2 (2013)   \n",
              "21255   103454  Batman Unmasked: The Psychology of the Dark Kn...   \n",
              "27078   130219                             The Dark Knight (2011)   \n",
              "\n",
              "                            genres  \n",
              "12525      Action|Crime|Drama|IMAX  \n",
              "18312  Action|Adventure|Crime|IMAX  \n",
              "19876      Action|Animation|Sci-Fi  \n",
              "20307             Action|Animation  \n",
              "21255                  Documentary  \n",
              "27078  Action|Crime|Drama|Thriller  "
            ],
            "text/html": [
              "<div>\n",
              "<style scoped>\n",
              "    .dataframe tbody tr th:only-of-type {\n",
              "        vertical-align: middle;\n",
              "    }\n",
              "\n",
              "    .dataframe tbody tr th {\n",
              "        vertical-align: top;\n",
              "    }\n",
              "\n",
              "    .dataframe thead th {\n",
              "        text-align: right;\n",
              "    }\n",
              "</style>\n",
              "<table border=\"1\" class=\"dataframe\">\n",
              "  <thead>\n",
              "    <tr style=\"text-align: right;\">\n",
              "      <th></th>\n",
              "      <th>movieId</th>\n",
              "      <th>title</th>\n",
              "      <th>genres</th>\n",
              "    </tr>\n",
              "  </thead>\n",
              "  <tbody>\n",
              "    <tr>\n",
              "      <th>12525</th>\n",
              "      <td>58559</td>\n",
              "      <td>Dark Knight, The (2008)</td>\n",
              "      <td>Action|Crime|Drama|IMAX</td>\n",
              "    </tr>\n",
              "    <tr>\n",
              "      <th>18312</th>\n",
              "      <td>91529</td>\n",
              "      <td>Dark Knight Rises, The (2012)</td>\n",
              "      <td>Action|Adventure|Crime|IMAX</td>\n",
              "    </tr>\n",
              "    <tr>\n",
              "      <th>19876</th>\n",
              "      <td>98124</td>\n",
              "      <td>Batman: The Dark Knight Returns, Part 1 (2012)</td>\n",
              "      <td>Action|Animation|Sci-Fi</td>\n",
              "    </tr>\n",
              "    <tr>\n",
              "      <th>20307</th>\n",
              "      <td>99813</td>\n",
              "      <td>Batman: The Dark Knight Returns, Part 2 (2013)</td>\n",
              "      <td>Action|Animation</td>\n",
              "    </tr>\n",
              "    <tr>\n",
              "      <th>21255</th>\n",
              "      <td>103454</td>\n",
              "      <td>Batman Unmasked: The Psychology of the Dark Kn...</td>\n",
              "      <td>Documentary</td>\n",
              "    </tr>\n",
              "    <tr>\n",
              "      <th>27078</th>\n",
              "      <td>130219</td>\n",
              "      <td>The Dark Knight (2011)</td>\n",
              "      <td>Action|Crime|Drama|Thriller</td>\n",
              "    </tr>\n",
              "  </tbody>\n",
              "</table>\n",
              "</div>"
            ]
          },
          "metadata": {}
        }
      ],
      "execution_count": 112,
      "metadata": {
        "collapsed": false,
        "outputHidden": false,
        "inputHidden": false
      }
    },
    {
      "cell_type": "code",
      "source": [
        "model.qi[get_qi_index('Toy Story (1995)')]"
      ],
      "outputs": [
        {
          "output_type": "execute_result",
          "execution_count": 72,
          "data": {
            "text/plain": [
              "array([ 0.00682176, -0.02742974, -0.13675823,  0.00816807, -0.33277309,\n",
              "        0.03182118,  0.09083358,  0.05865437,  0.03113894, -0.16493524,\n",
              "       -0.23838983, -0.04231692, -0.08681526, -0.12783375, -0.10292278,\n",
              "       -0.09057432, -0.04994185, -0.07499672, -0.06888434, -0.06789744,\n",
              "       -0.12925843,  0.39951614,  0.05932971, -0.01516195,  0.24967539,\n",
              "       -0.27205902,  0.06053507,  0.15551011,  0.30996803,  0.03402403,\n",
              "        0.18701346, -0.18956579, -0.20142125, -0.11643695,  0.25940385,\n",
              "       -0.11968252, -0.12116614,  0.0231169 , -0.08431985, -0.12658584,\n",
              "       -0.09191728, -0.27884193,  0.27505785, -0.12392975, -0.15058196,\n",
              "        0.21057446, -0.12654753,  0.0700443 , -0.06247823, -0.05484703,\n",
              "       -0.11932657, -0.14725768,  0.04008789,  0.28153724, -0.21574657,\n",
              "       -0.04239177,  0.06184737, -0.02086092,  0.10713537,  0.19600807,\n",
              "       -0.06545519, -0.05501959, -0.33478811,  0.1573239 , -0.36911088,\n",
              "        0.05108005,  0.05010795,  0.03304164,  0.04825734,  0.14712784,\n",
              "       -0.19884562, -0.24440692, -0.11480281,  0.06547746,  0.08411724,\n",
              "       -0.03633692, -0.09190902,  0.08206393,  0.16096423, -0.18770014,\n",
              "        0.07205602,  0.00365297,  0.53034626, -0.05402928, -0.14669331,\n",
              "        0.16243092, -0.14519457,  0.16971918, -0.30500834,  0.02845796,\n",
              "        0.07313075, -0.05080788,  0.04293853,  0.18596931, -0.25665914,\n",
              "        0.02266145,  0.13195627,  0.22780984, -0.05619618, -0.23270029])"
            ]
          },
          "metadata": {}
        }
      ],
      "execution_count": 72,
      "metadata": {
        "collapsed": false,
        "outputHidden": false,
        "inputHidden": false
      }
    },
    {
      "cell_type": "markdown",
      "source": [
        "# once we have the user and item latent features we can do the following\n",
        "\n",
        "1. If we provide the user id and the movie id , it will give the predicted rating\n",
        "2. Compute Item Similarity: Finding similarity between vectors\n",
        "3. Find similar movies by ranking top N movies based on the cosine distance"
      ],
      "metadata": {
        "collapsed": false,
        "outputHidden": false,
        "inputHidden": false
      }
    },
    {
      "cell_type": "code",
      "source": [
        "model.predict(1,2)"
      ],
      "outputs": [
        {
          "output_type": "execute_result",
          "execution_count": 73,
          "data": {
            "text/plain": [
              "Prediction(uid=1, iid=2, r_ui=None, est=3.862294246090189, details={'was_impossible': False})"
            ]
          },
          "metadata": {}
        }
      ],
      "execution_count": 73,
      "metadata": {}
    },
    {
      "cell_type": "code",
      "source": [
        "starwars_vector = model.qi[get_qi_index('Star Wars: Episode IV - A New Hope (1977)')]\n",
        "return_of_jedi_vector = model.qi[get_qi_index('Star Wars: Episode VI - Return of the Jedi (1983)')]\n",
        "aladdin_vector = model.qi[get_qi_index('Aladdin (1992)')]"
      ],
      "outputs": [],
      "execution_count": 82,
      "metadata": {}
    },
    {
      "cell_type": "code",
      "source": [
        "from scipy import spatial\n",
        "spatial.distance.cosine(return_of_jedi_vector, starwars_vector)"
      ],
      "outputs": [
        {
          "output_type": "execute_result",
          "execution_count": 89,
          "data": {
            "text/plain": [
              "0.079432871323868"
            ]
          },
          "metadata": {}
        }
      ],
      "execution_count": 89,
      "metadata": {
        "collapsed": false,
        "outputHidden": false,
        "inputHidden": false
      }
    },
    {
      "cell_type": "code",
      "source": [
        "# get top 5 movie recommendation\n",
        "main_vec = model.qi[get_qi_index('Dark Knight, The (2008)')]\n",
        "sim = {}\n",
        "for i in movies['title'].values:\n",
        "    try:\n",
        "        vec = model.qi[get_qi_index(i)]\n",
        "    except:\n",
        "        continue\n",
        "    sim[i] = spatial.distance.cosine(vec,main_vec)\n",
        "rating = pd.Series(sim).to_frame()\n",
        "rating.columns = ['score']\n",
        "# Top 10 predictions \n",
        "rating['score'].sort_values().head(10)"
      ],
      "outputs": [
        {
          "output_type": "execute_result",
          "execution_count": 113,
          "data": {
            "text/plain": [
              "Dark Knight, The (2008)          0.000000\n",
              "Batman Begins (2005)             0.241819\n",
              "Dark Knight Rises, The (2012)    0.305556\n",
              "Inception (2010)                 0.378386\n",
              "Iron Man (2008)                  0.401103\n",
              "Departed, The (2006)             0.411194\n",
              "Casino Royale (2006)             0.417304\n",
              "Matrix, The (1999)               0.466873\n",
              "Star Trek (2009)                 0.473091\n",
              "Django Unchained (2012)          0.491722\n",
              "Name: score, dtype: float64"
            ]
          },
          "metadata": {}
        }
      ],
      "execution_count": 113,
      "metadata": {
        "collapsed": false,
        "outputHidden": false,
        "inputHidden": false
      }
    },
    {
      "cell_type": "code",
      "source": [
        "from surprise import dump\n",
        "dump.dump(\"C:/Users/Bharath/Downloads/ml-20m/ml-20m/data.pkl\", predictions=None, algo=model, verbose=1)"
      ],
      "outputs": [
        {
          "output_type": "stream",
          "name": "stdout",
          "text": [
            "The dump has been saved as file C:/Users/Bharath/Downloads/ml-20m/ml-20m/data.pkl\n"
          ]
        }
      ],
      "execution_count": 124,
      "metadata": {
        "collapsed": false,
        "outputHidden": false,
        "inputHidden": false
      }
    },
    {
      "cell_type": "code",
      "source": [],
      "outputs": [],
      "execution_count": null,
      "metadata": {
        "collapsed": false,
        "outputHidden": false,
        "inputHidden": false
      }
    }
  ],
  "metadata": {
    "kernel_info": {
      "name": "python3"
    },
    "language_info": {
      "name": "python",
      "version": "3.6.5",
      "mimetype": "text/x-python",
      "codemirror_mode": {
        "name": "ipython",
        "version": 3
      },
      "pygments_lexer": "ipython3",
      "nbconvert_exporter": "python",
      "file_extension": ".py"
    },
    "kernelspec": {
      "name": "python3",
      "language": "python",
      "display_name": "Python 3"
    },
    "nteract": {
      "version": "0.11.6"
    }
  },
  "nbformat": 4,
  "nbformat_minor": 4
}